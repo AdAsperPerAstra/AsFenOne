{
 "cells": [
  {
   "cell_type": "code",
   "execution_count": 4,
   "id": "10ecf556",
   "metadata": {},
   "outputs": [
    {
     "ename": "NameError",
     "evalue": "name 'subprocess' is not defined",
     "output_type": "error",
     "traceback": [
      "\u001b[1;31m---------------------------------------------------------------------------\u001b[0m",
      "\u001b[1;31mNameError\u001b[0m                                 Traceback (most recent call last)",
      "\u001b[1;32m~\\AppData\\Local\\Temp\\ipykernel_12428\\1625343790.py\u001b[0m in \u001b[0;36m<module>\u001b[1;34m\u001b[0m\n\u001b[0;32m      5\u001b[0m \u001b[1;31m#os.chdir(r\"D:\\IPYNB\\KSFE2023\\PROGRAMME\\\")\u001b[0m\u001b[1;33m\u001b[0m\u001b[1;33m\u001b[0m\u001b[0m\n\u001b[0;32m      6\u001b[0m \u001b[0mos\u001b[0m\u001b[1;33m.\u001b[0m\u001b[0msystem\u001b[0m\u001b[1;33m(\u001b[0m\u001b[1;34m\"cd D:\\IPYNB\\KSFE2023\\PROGRAMME\"\u001b[0m\u001b[1;33m)\u001b[0m\u001b[1;33m\u001b[0m\u001b[1;33m\u001b[0m\u001b[0m\n\u001b[1;32m----> 7\u001b[1;33m \u001b[0msubprocess\u001b[0m\u001b[1;33m.\u001b[0m\u001b[0mPopen\u001b[0m\u001b[1;33m(\u001b[0m\u001b[1;34m\"RUN_VAS2023_TestD.exe\"\u001b[0m\u001b[1;33m)\u001b[0m\u001b[1;33m\u001b[0m\u001b[1;33m\u001b[0m\u001b[0m\n\u001b[0m",
      "\u001b[1;31mNameError\u001b[0m: name 'subprocess' is not defined"
     ]
    }
   ],
   "source": [
    "import os \n",
    "\n",
    "# change the current directory \n",
    "# to specified directory \n",
    "#os.chdir(r\"D:\\IPYNB\\KSFE2023\\PROGRAMME\\\") \n",
    "os.system(\"cd D:\\IPYNB\\KSFE2023\\PROGRAMME\")         \n",
    "subprocess.Popen(\"RUN_VAS2023.exe\") ;RUN_VAS2023_TestD.exe\")"
   ]
  },
  {
   "cell_type": "code",
   "execution_count": 7,
   "id": "3292e197",
   "metadata": {},
   "outputs": [
    {
     "ename": "NameError",
     "evalue": "name 'subprocess' is not defined",
     "output_type": "error",
     "traceback": [
      "\u001b[1;31m---------------------------------------------------------------------------\u001b[0m",
      "\u001b[1;31mNameError\u001b[0m                                 Traceback (most recent call last)",
      "\u001b[1;32m~\\AppData\\Local\\Temp\\ipykernel_12428\\2657686656.py\u001b[0m in \u001b[0;36m<module>\u001b[1;34m\u001b[0m\n\u001b[0;32m      4\u001b[0m     \u001b[1;31m# to specified directory\u001b[0m\u001b[1;33m\u001b[0m\u001b[1;33m\u001b[0m\u001b[0m\n\u001b[0;32m      5\u001b[0m \u001b[0mos\u001b[0m\u001b[1;33m.\u001b[0m\u001b[0mchdir\u001b[0m\u001b[1;33m(\u001b[0m\u001b[1;34mr\"D:\\IPYNB\\KSFE2023\\PROGRAMME\"\u001b[0m\u001b[1;33m)\u001b[0m\u001b[1;33m\u001b[0m\u001b[1;33m\u001b[0m\u001b[0m\n\u001b[1;32m----> 6\u001b[1;33m \u001b[0msubprocess\u001b[0m\u001b[1;33m.\u001b[0m\u001b[0mPopen\u001b[0m\u001b[1;33m(\u001b[0m\u001b[1;34m\"RUN_VAS2023.exe\"\u001b[0m\u001b[1;33m)\u001b[0m\u001b[1;33m\u001b[0m\u001b[1;33m\u001b[0m\u001b[0m\n\u001b[0m",
      "\u001b[1;31mNameError\u001b[0m: name 'subprocess' is not defined"
     ]
    }
   ],
   "source": [
    "import os \n",
    "\n",
    "    # change the current directory \n",
    "    # to specified directory \n",
    "os.chdir(r\"D:\\IPYNB\\KSFE2023\\PROGRAMME\") \n",
    "subprocess.Popen(\"RUN_VAS2023.exe\")"
   ]
  },
  {
   "cell_type": "code",
   "execution_count": 10,
   "id": "f0f575bc",
   "metadata": {},
   "outputs": [
    {
     "ename": "SyntaxError",
     "evalue": "EOL while scanning string literal (2898193555.py, line 2)",
     "output_type": "error",
     "traceback": [
      "\u001b[1;36m  File \u001b[1;32m\"C:\\Users\\satur\\AppData\\Local\\Temp\\ipykernel_12428\\2898193555.py\"\u001b[1;36m, line \u001b[1;32m2\u001b[0m\n\u001b[1;33m    os.system(\"start D:\\IPYNB\\KSFE2023\\PROGRAMME\\RUN_VAS2023.exe\") ;    iexplore.exe')\u001b[0m\n\u001b[1;37m                                                                                      ^\u001b[0m\n\u001b[1;31mSyntaxError\u001b[0m\u001b[1;31m:\u001b[0m EOL while scanning string literal\n"
     ]
    }
   ],
   "source": [
    "import os\n",
    "os.system(\"start D:\\IPYNB\\KSFE2023\\PROGRAMME\\RUN_VAS2023.exe\") ;    iexplore.exe')"
   ]
  },
  {
   "cell_type": "code",
   "execution_count": 1,
   "id": "b6555ae1",
   "metadata": {},
   "outputs": [
    {
     "data": {
      "text/plain": [
       "<Popen: returncode: None args: 'D:\\\\IPYNB\\\\KSFE2023\\\\PROGRAMME\\\\RUN_VAS2023_...>"
      ]
     },
     "execution_count": 1,
     "metadata": {},
     "output_type": "execute_result"
    }
   ],
   "source": [
    "import os \n",
    "import subprocess\n",
    "current_dir = r\"D:\\IPYNB\\KSFE2023\\PROGRAMME\"\n",
    "subprocess.Popen(os.path.join(current_dir,\"RUN_VAS2023_TestD.exe\"))"
   ]
  },
  {
   "cell_type": "code",
   "execution_count": null,
   "id": "a0577bef",
   "metadata": {},
   "outputs": [],
   "source": []
  }
 ],
 "metadata": {
  "kernelspec": {
   "display_name": "Python 3 (ipykernel)",
   "language": "python",
   "name": "python3"
  },
  "language_info": {
   "codemirror_mode": {
    "name": "ipython",
    "version": 3
   },
   "file_extension": ".py",
   "mimetype": "text/x-python",
   "name": "python",
   "nbconvert_exporter": "python",
   "pygments_lexer": "ipython3",
   "version": "3.9.13"
  }
 },
 "nbformat": 4,
 "nbformat_minor": 5
}
